{
  "nbformat": 4,
  "nbformat_minor": 0,
  "metadata": {
    "colab": {
      "name": "pytaf.ipynb",
      "version": "0.3.2",
      "provenance": [],
      "collapsed_sections": [],
      "include_colab_link": true
    },
    "kernelspec": {
      "name": "python3",
      "display_name": "Python 3"
    }
  },
  "cells": [
    {
      "cell_type": "markdown",
      "metadata": {
        "id": "view-in-github",
        "colab_type": "text"
      },
      "source": [
        "<a href=\"https://colab.research.google.com/github/TerraFusion/pytaf/blob/master/pytaf.ipynb\" target=\"_parent\"><img src=\"https://colab.research.google.com/assets/colab-badge.svg\" alt=\"Open In Colab\"/></a>"
      ]
    },
    {
      "metadata": {
        "id": "unUrD3kPr6UH",
        "colab_type": "code",
        "outputId": "1b669041-1041-44fc-df58-f93019c35b43",
        "colab": {
          "base_uri": "https://localhost:8080/",
          "height": 180
        }
      },
      "cell_type": "code",
      "source": [
        "!pip install git+https://github.com/TerraFusion/pytaf.git"
      ],
      "execution_count": 0,
      "outputs": [
        {
          "output_type": "stream",
          "text": [
            "Collecting git+https://github.com/TerraFusion/pytaf.git\n",
            "  Cloning https://github.com/TerraFusion/pytaf.git to /tmp/pip-req-build-crmswgdw\n",
            "Building wheels for collected packages: pytaf\n",
            "  Building wheel for pytaf (setup.py) ... \u001b[?25ldone\n",
            "\u001b[?25h  Stored in directory: /tmp/pip-ephem-wheel-cache-96y4emlm/wheels/89/9a/b7/dbe1239ae21307233b49f0e2c0b9fc92fa251e37d6d1e46624\n",
            "Successfully built pytaf\n",
            "Installing collected packages: pytaf\n",
            "Successfully installed pytaf-0.0.1\n"
          ],
          "name": "stdout"
        }
      ]
    },
    {
      "metadata": {
        "id": "XFhW9htjsuG2",
        "colab_type": "code",
        "outputId": "a94f2eea-92a4-4d94-e942-73fad6e5c8d6",
        "colab": {
          "base_uri": "https://localhost:8080/",
          "height": 392
        }
      },
      "cell_type": "code",
      "source": [
        "import pytaf\n",
        "import numpy as np\n",
        "\n",
        "a = np.arange(12, dtype=np.float64).reshape((3,4))\n",
        "b = a * -333\n",
        "c = np.arange(3, dtype=np.int32)\n",
        "print('a value')\n",
        "print(a)\n",
        "print('b value')\n",
        "print(b)\n",
        "pytaf.clip(a, b, 4)\n",
        "print('a value after clipping')\n",
        "print(a)\n",
        "print('b value before low-level nearest neighbor function')\n",
        "print(b)\n",
        "print('Test low-level nearest neighbor with fake ID and numbers of cell')\n",
        "pytaf.interpolate_nn(a, b, c, 3)\n",
        "print('b value after low-level nearest neighbor function')\n",
        "print(b)\n"
      ],
      "execution_count": 0,
      "outputs": [
        {
          "output_type": "stream",
          "text": [
            "a value\n",
            "[[ 0.  1.  2.  3.]\n",
            " [ 4.  5.  6.  7.]\n",
            " [ 8.  9. 10. 11.]]\n",
            "b value\n",
            "[[   -0.  -333.  -666.  -999.]\n",
            " [-1332. -1665. -1998. -2331.]\n",
            " [-2664. -2997. -3330. -3663.]]\n",
            "a value after clipping\n",
            "[[   0.    1.    2. -999.]\n",
            " [   4.    5.    6.    7.]\n",
            " [   8.    9.   10.   11.]]\n",
            "b value before low-level nearest neighbor function\n",
            "[[   -0.  -333.  -666.  -999.]\n",
            " [-1332. -1665. -1998. -2331.]\n",
            " [-2664. -2997. -3330. -3663.]]\n",
            "Test low-level nearest neighbor with fake ID and numbers of cell\n",
            "b value after low-level nearest neighbor function\n",
            "[[ 0.000e+00  1.000e+00  2.000e+00 -9.990e+02]\n",
            " [-1.332e+03 -1.665e+03 -1.998e+03 -2.331e+03]\n",
            " [-2.664e+03 -2.997e+03 -3.330e+03 -3.663e+03]]\n"
          ],
          "name": "stdout"
        }
      ]
    }
  ]
}