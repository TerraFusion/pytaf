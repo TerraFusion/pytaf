{
  "nbformat": 4,
  "nbformat_minor": 0,
  "metadata": {
    "colab": {
      "name": "misr2ceres.ipynb",
      "version": "0.3.2",
      "provenance": [],
      "collapsed_sections": [],
      "include_colab_link": true
    },
    "kernelspec": {
      "name": "python3",
      "display_name": "Python 3"
    }
  },
  "cells": [
    {
      "cell_type": "markdown",
      "metadata": {
        "id": "view-in-github",
        "colab_type": "text"
      },
      "source": [
        "<a href=\"https://colab.research.google.com/github/TerraFusion/pytaf/blob/master/examples/notebook/misr2ceres.ipynb\" target=\"_parent\"><img src=\"https://colab.research.google.com/assets/colab-badge.svg\" alt=\"Open In Colab\"/></a>"
      ]
    },
    {
      "cell_type": "code",
      "metadata": {
        "id": "Zp4OfTxrbPIs",
        "colab_type": "code",
        "colab": {
          "base_uri": "https://localhost:8080/",
          "height": 1373
        },
        "outputId": "24b0d8cf-55bc-4cc6-cff0-81b49f7020b0"
      },
      "source": [
        "!pip install pyproj==1.9.6\n",
        "!apt install proj-bin libproj-dev libgeos-dev\n",
        "!pip install https://github.com/matplotlib/basemap/archive/v1.2.0rel.tar.gz\n",
        "!pip install git+https://github.com/TerraFusion/pytaf.git"
      ],
      "execution_count": 1,
      "outputs": [
        {
          "output_type": "stream",
          "text": [
            "Collecting pyproj==1.9.6\n",
            "\u001b[?25l  Downloading https://files.pythonhosted.org/packages/26/8c/1da0580f334718e04f8bbf74f0515a7fb8185ff96b2560ce080c11aa145b/pyproj-1.9.6.tar.gz (2.8MB)\n",
            "\u001b[K     |████████████████████████████████| 2.8MB 4.9MB/s \n",
            "\u001b[?25hBuilding wheels for collected packages: pyproj\n",
            "  Building wheel for pyproj (setup.py) ... \u001b[?25l\u001b[?25hdone\n",
            "  Stored in directory: /root/.cache/pip/wheels/02/cd/b1/a2d6430f74c7a778a43d62f78bec109ca69c732dc9b929142a\n",
            "Successfully built pyproj\n",
            "Installing collected packages: pyproj\n",
            "Successfully installed pyproj-1.9.6\n",
            "Reading package lists... Done\n",
            "Building dependency tree       \n",
            "Reading state information... Done\n",
            "The following package was automatically installed and is no longer required:\n",
            "  libnvidia-common-410\n",
            "Use 'apt autoremove' to remove it.\n",
            "Suggested packages:\n",
            "  libgdal-doc\n",
            "The following NEW packages will be installed:\n",
            "  libgeos-dev libproj-dev proj-bin\n",
            "0 upgraded, 3 newly installed, 0 to remove and 8 not upgraded.\n",
            "Need to get 305 kB of archives.\n",
            "After this operation, 1,706 kB of additional disk space will be used.\n",
            "Get:1 http://archive.ubuntu.com/ubuntu bionic/universe amd64 libgeos-dev amd64 3.6.2-1build2 [73.1 kB]\n",
            "Get:2 http://archive.ubuntu.com/ubuntu bionic/universe amd64 libproj-dev amd64 4.9.3-2 [199 kB]\n",
            "Get:3 http://archive.ubuntu.com/ubuntu bionic/universe amd64 proj-bin amd64 4.9.3-2 [32.3 kB]\n",
            "Fetched 305 kB in 1s (226 kB/s)\n",
            "Selecting previously unselected package libgeos-dev.\n",
            "(Reading database ... 130912 files and directories currently installed.)\n",
            "Preparing to unpack .../libgeos-dev_3.6.2-1build2_amd64.deb ...\n",
            "Unpacking libgeos-dev (3.6.2-1build2) ...\n",
            "Selecting previously unselected package libproj-dev:amd64.\n",
            "Preparing to unpack .../libproj-dev_4.9.3-2_amd64.deb ...\n",
            "Unpacking libproj-dev:amd64 (4.9.3-2) ...\n",
            "Selecting previously unselected package proj-bin.\n",
            "Preparing to unpack .../proj-bin_4.9.3-2_amd64.deb ...\n",
            "Unpacking proj-bin (4.9.3-2) ...\n",
            "Setting up libproj-dev:amd64 (4.9.3-2) ...\n",
            "Setting up libgeos-dev (3.6.2-1build2) ...\n",
            "Setting up proj-bin (4.9.3-2) ...\n",
            "Processing triggers for man-db (2.8.3-2ubuntu0.1) ...\n",
            "Collecting https://github.com/matplotlib/basemap/archive/v1.2.0rel.tar.gz\n",
            "\u001b[?25l  Downloading https://github.com/matplotlib/basemap/archive/v1.2.0rel.tar.gz\n",
            "\u001b[K     / 165.5MB 5.2MB/s\n",
            "\u001b[?25hRequirement already satisfied: matplotlib>=1.0.0 in /usr/local/lib/python3.6/dist-packages (from basemap==1.2.0) (3.0.3)\n",
            "Requirement already satisfied: numpy>=1.2.1 in /usr/local/lib/python3.6/dist-packages (from basemap==1.2.0) (1.16.4)\n",
            "Requirement already satisfied: pyproj>=1.9.3 in /usr/local/lib/python3.6/dist-packages (from basemap==1.2.0) (1.9.6)\n",
            "Collecting pyshp>=1.2.0 (from basemap==1.2.0)\n",
            "\u001b[?25l  Downloading https://files.pythonhosted.org/packages/27/16/3bf15aa864fb77845fab8007eda22c2bd67bd6c1fd13496df452c8c43621/pyshp-2.1.0.tar.gz (215kB)\n",
            "\u001b[K     |████████████████████████████████| 225kB 4.9MB/s \n",
            "\u001b[?25hRequirement already satisfied: six in /usr/local/lib/python3.6/dist-packages (from basemap==1.2.0) (1.12.0)\n",
            "Requirement already satisfied: cycler>=0.10 in /usr/local/lib/python3.6/dist-packages (from matplotlib>=1.0.0->basemap==1.2.0) (0.10.0)\n",
            "Requirement already satisfied: pyparsing!=2.0.4,!=2.1.2,!=2.1.6,>=2.0.1 in /usr/local/lib/python3.6/dist-packages (from matplotlib>=1.0.0->basemap==1.2.0) (2.4.0)\n",
            "Requirement already satisfied: python-dateutil>=2.1 in /usr/local/lib/python3.6/dist-packages (from matplotlib>=1.0.0->basemap==1.2.0) (2.5.3)\n",
            "Requirement already satisfied: kiwisolver>=1.0.1 in /usr/local/lib/python3.6/dist-packages (from matplotlib>=1.0.0->basemap==1.2.0) (1.1.0)\n",
            "Requirement already satisfied: setuptools in /usr/local/lib/python3.6/dist-packages (from kiwisolver>=1.0.1->matplotlib>=1.0.0->basemap==1.2.0) (41.0.1)\n",
            "Building wheels for collected packages: basemap, pyshp\n",
            "  Building wheel for basemap (setup.py) ... \u001b[?25l\u001b[?25hdone\n",
            "  Stored in directory: /tmp/pip-ephem-wheel-cache-tmygnbc6/wheels/03/f8/02/1cc5d5cc048859afcf3429d236551579e849c5650427532fb2\n",
            "  Building wheel for pyshp (setup.py) ... \u001b[?25l\u001b[?25hdone\n",
            "  Stored in directory: /root/.cache/pip/wheels/a6/0c/de/321b5192ad416b328975a2f0385f72c64db4656501eba7cc1a\n",
            "Successfully built basemap pyshp\n",
            "Installing collected packages: pyshp, basemap\n",
            "Successfully installed basemap-1.2.0 pyshp-2.1.0\n"
          ],
          "name": "stdout"
        },
        {
          "output_type": "display_data",
          "data": {
            "application/vnd.colab-display-data+json": {
              "pip_warning": {
                "packages": [
                  "mpl_toolkits"
                ]
              }
            }
          },
          "metadata": {
            "tags": []
          }
        },
        {
          "output_type": "stream",
          "text": [
            "Collecting git+https://github.com/TerraFusion/pytaf.git\n",
            "  Cloning https://github.com/TerraFusion/pytaf.git to /tmp/pip-req-build-8xa8juog\n",
            "  Running command git clone -q https://github.com/TerraFusion/pytaf.git /tmp/pip-req-build-8xa8juog\n",
            "Building wheels for collected packages: pytaf\n",
            "  Building wheel for pytaf (setup.py) ... \u001b[?25l\u001b[?25hdone\n",
            "  Stored in directory: /tmp/pip-ephem-wheel-cache-nkavvapi/wheels/89/9a/b7/dbe1239ae21307233b49f0e2c0b9fc92fa251e37d6d1e46624\n",
            "Successfully built pytaf\n",
            "Installing collected packages: pytaf\n",
            "Successfully installed pytaf-1.0.0\n"
          ],
          "name": "stdout"
        }
      ]
    },
    {
      "cell_type": "code",
      "metadata": {
        "id": "u_-f-_cp4rdJ",
        "colab_type": "code",
        "colab": {}
      },
      "source": [
        "import time\n",
        "start_time = time.time()"
      ],
      "execution_count": 0,
      "outputs": []
    },
    {
      "cell_type": "code",
      "metadata": {
        "colab_type": "code",
        "outputId": "ae70dddd-fedf-42c6-e11d-8e746b627a9c",
        "id": "RBEyEJOuJ3Lr",
        "colab": {
          "base_uri": "https://localhost:8080/",
          "height": 245
        }
      },
      "source": [
        "!wget https://gamma.hdfgroup.org/ftp/pub/outgoing/joe/data/h5/TERRA_BF_L1B_O53557_20100112014327_F000_V001.sbuset.h5\n",
        "print(\"--- %s seconds ---\" % (time.time() - start_time))"
      ],
      "execution_count": 3,
      "outputs": [
        {
          "output_type": "stream",
          "text": [
            "--2019-06-04 17:14:34--  https://gamma.hdfgroup.org/ftp/pub/outgoing/joe/data/h5/TERRA_BF_L1B_O53557_20100112014327_F000_V001.sbuset.h5\n",
            "Resolving gamma.hdfgroup.org (gamma.hdfgroup.org)... 206.221.145.35\n",
            "Connecting to gamma.hdfgroup.org (gamma.hdfgroup.org)|206.221.145.35|:443... connected.\n",
            "HTTP request sent, awaiting response... 200 OK\n",
            "Length: 1384819672 (1.3G) [text/plain]\n",
            "Saving to: ‘TERRA_BF_L1B_O53557_20100112014327_F000_V001.sbuset.h5’\n",
            "\n",
            "TERRA_BF_L1B_O53557 100%[===================>]   1.29G  3.81MB/s    in 5m 48s  \n",
            "\n",
            "2019-06-04 17:20:22 (3.79 MB/s) - ‘TERRA_BF_L1B_O53557_20100112014327_F000_V001.sbuset.h5’ saved [1384819672/1384819672]\n",
            "\n",
            "--- 349.4554982185364 seconds ---\n"
          ],
          "name": "stdout"
        }
      ]
    },
    {
      "cell_type": "code",
      "metadata": {
        "id": "t5IGPVZB4CC2",
        "colab_type": "code",
        "outputId": "3932b135-da05-4904-aac4-12b404961154",
        "colab": {
          "base_uri": "https://localhost:8080/",
          "height": 34
        }
      },
      "source": [
        "import h5py\n",
        "import numpy as np\n",
        "\n",
        "bf_file = 'TERRA_BF_L1B_O53557_20100112014327_F000_V001.sbuset.h5'\n",
        "# Read CERES and MISR.\n",
        "with h5py.File(bf_file) as h5f:\n",
        "  \n",
        "  lon_s = h5f['CERES/lon'][:]  \n",
        "  lat_s = h5f['CERES/lat'][:]\n",
        "  data_s = h5f['CERES/sza'][:]\n",
        "  data_v = h5f['CERES/vza'][:]\n",
        "  \n",
        "  lon = h5f['MISR/lon'][:]  \n",
        "  lat = h5f['MISR/lat'][:]\n",
        "  var = h5f['MISR/var'][:]\n",
        "print(\"--- %s seconds ---\" % (time.time() - start_time))\n"
      ],
      "execution_count": 4,
      "outputs": [
        {
          "output_type": "stream",
          "text": [
            "--- 370.4897692203522 seconds ---\n"
          ],
          "name": "stdout"
        }
      ]
    },
    {
      "cell_type": "code",
      "metadata": {
        "id": "hC8uQAXNaycV",
        "colab_type": "code",
        "colab": {
          "base_uri": "https://localhost:8080/",
          "height": 69
        },
        "outputId": "0178cc9a-2ca0-4109-cccc-f73449967864"
      },
      "source": [
        "\n",
        "# Apply criteria.\n",
        "idx = np.where((data_s>=0)&(data_s<=89)&(data_v>=0)&(data_v<=25))[0]\n",
        "print(idx.shape)\n",
        "target_lat = lat_s[idx]\n",
        "target_lon = lon_s[idx]\n",
        "\n",
        "# Convert 3-D MISR grids to 2-D.\n",
        "src_var = np.vstack(var).astype(np.float64)\n",
        "print(src_var.shape)\n",
        "src_lat = np.vstack(lat).astype(np.float64)\n",
        "src_lon = np.vstack(lon).astype(np.float64)\n",
        "\n",
        "# Call resample using summary interpolation.\n",
        "sd = np.zeros(src_var.shape, dtype=src_var.dtype)\n",
        "npix = np.zeros(src_var.shape, dtype=np.int32)\n",
        "max_radius = 20000\n",
        "\n",
        "# Make copies of target lat/lon because resample will modify them.\n",
        "tlat = target_lat.copy()\n",
        "tlon = target_lon.copy()\n",
        "print(\"--- %s seconds ---\" % (time.time() - start_time))"
      ],
      "execution_count": 5,
      "outputs": [
        {
          "output_type": "stream",
          "text": [
            "(31532,)\n",
            "(92160, 2048)\n",
            "--- 376.3913059234619 seconds ---\n"
          ],
          "name": "stdout"
        }
      ]
    },
    {
      "cell_type": "code",
      "metadata": {
        "id": "abMmVeiLbEcL",
        "colab_type": "code",
        "colab": {
          "base_uri": "https://localhost:8080/",
          "height": 86
        },
        "outputId": "79c81fca-4e2b-4fb4-d599-6686a7ad381d"
      },
      "source": [
        "import pytaf\n",
        "\n",
        "trg_data = pytaf.resample_s(src_lat, src_lon, target_lat, target_lon, \n",
        "                            src_var, max_radius, sd, npix)\n",
        "\n",
        "print(trg_data.shape)\n",
        "print(trg_data.size)\n",
        "print(trg_data)\n",
        "\n",
        "print(\"--- %s seconds ---\" % (time.time() - start_time))"
      ],
      "execution_count": 6,
      "outputs": [
        {
          "output_type": "stream",
          "text": [
            "(31532,)\n",
            "31532\n",
            "[-999. -999. -999. ... -999. -999. -999.]\n",
            "--- 547.3747630119324 seconds ---\n"
          ],
          "name": "stdout"
        }
      ]
    },
    {
      "cell_type": "code",
      "metadata": {
        "id": "vzvgwXPveHPW",
        "colab_type": "code",
        "colab": {}
      },
      "source": [
        "\n",
        "# Write data for plotting.\n",
        "f3 = h5py.File('misr2ceres.h5', 'w')\n",
        "dset = f3.create_dataset('/Target/Data_Fields/MISR_AN_Red_Radiance', data=trg_data)\n",
        "dset3 = f3.create_dataset('/Geolocation/Latitude', data=tlat)\n",
        "dset4 = f3.create_dataset('/Geolocation/Longitude', data=tlon)\n",
        "f3.close()"
      ],
      "execution_count": 0,
      "outputs": []
    },
    {
      "cell_type": "code",
      "metadata": {
        "id": "lhb1bRsyeIvn",
        "colab_type": "code",
        "colab": {
          "base_uri": "https://localhost:8080/",
          "height": 307
        },
        "outputId": "74ab500e-def4-464b-d052-acced370abc8"
      },
      "source": [
        "# Open the file.\n",
        "file_name = 'misr2ceres.h5'\n",
        "\n",
        "with h5py.File(file_name, 'r') as f:\n",
        "    # Read MISR Radiance dataset.\n",
        "    misr_dset = f['/Target/Data_Fields/MISR_AN_Red_Radiance']        \n",
        "    misr_data = misr_dset[:].astype(np.float64)\n",
        "    ds_lat = f['/Geolocation/Latitude']\n",
        "    lat = ds_lat[:].astype(np.float64)\n",
        "    ds_lon = f['/Geolocation/Longitude']\n",
        "    lon = ds_lon[:].astype(np.float64)\n",
        "    \n",
        "import matplotlib as mpl\n",
        "import matplotlib.pyplot as plt\n",
        "from mpl_toolkits.basemap import Basemap\n",
        "\n",
        "# Plot data.\n",
        "data = misr_data\n",
        "data[data == -999] = np.nan\n",
        "datam = np.ma.masked_array(data, np.isnan(data))\n",
        "m = Basemap(projection='cyl', resolution='l',\n",
        "            llcrnrlat=np.min(lat), urcrnrlat=np.max(lat),\n",
        "            llcrnrlon=np.min(lon), urcrnrlon=np.max(lon))\n",
        "slat = (np.ceil(np.max(lat)) -  np.floor(np.min(lat))) / 6.0\n",
        "slon = (np.ceil(np.max(lon)) -  np.floor(np.min(lon))) / 6.0        \n",
        "m.drawcoastlines(linewidth=0.5)\n",
        "m.drawparallels(np.arange(np.floor(np.min(lat)),\n",
        "                          np.ceil(np.max(lat)), slat),\n",
        "                labels=[1, 0, 0, 0])\n",
        "m.drawmeridians(np.arange(np.floor(np.min(lon)),\n",
        "                          np.ceil(np.max(lon)), slon),\n",
        "                labels=[0, 0, 0, 1])\n",
        "m.scatter(lon, lat, c=datam, s=1, edgecolors=None, linewidth=0)\n",
        "fig = plt.gcf()\n",
        "fig.suptitle('{0}'.format(file_name))\n",
        "pngfile = file_name+'.py.png'\n",
        "fig.savefig(pngfile)\n",
        "print(\"--- %s seconds ---\" % (time.time() - start_time))"
      ],
      "execution_count": 8,
      "outputs": [
        {
          "output_type": "stream",
          "text": [
            "--- 549.1157901287079 seconds ---\n"
          ],
          "name": "stdout"
        },
        {
          "output_type": "display_data",
          "data": {
            "image/png": "[encoded data removed]",
            "text/plain": [
              "<Figure size 432x288 with 1 Axes>"
            ]
          },
          "metadata": {
            "tags": []
          }
        }
      ]
    }
  ]
}